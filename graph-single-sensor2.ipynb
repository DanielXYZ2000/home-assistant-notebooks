{
 "cells": [
  {
   "cell_type": "markdown",
   "metadata": {},
   "source": [
    "## Creating a graph of a Home Assistant sensor\n",
    "This notebook contains a simple example that creates a graph with data stored by Home Assistant in the local database. For the graph is [mpld3](http://mpld3.github.io/index.html) used which combines [matplotlib](http://www.matplotlib.org/) and [D3js](https://d3js.org/)."
   ]
  },
  {
   "cell_type": "markdown",
   "metadata": {},
   "source": [
    "### Setup"
   ]
  },
  {
   "cell_type": "code",
   "execution_count": 72,
   "metadata": {
    "collapsed": false,
    "scrolled": true
   },
   "outputs": [
    {
     "name": "stdout",
     "output_type": "stream",
     "text": [
      "Populating the interactive namespace from numpy and matplotlib\n"
     ]
    }
   ],
   "source": [
    "# matplotlib for plotting the data\n",
    "%pylab inline"
   ]
  },
  {
   "cell_type": "code",
   "execution_count": 103,
   "metadata": {
    "collapsed": true
   },
   "outputs": [],
   "source": [
    "import datetime\n",
    "import warnings\n",
    "warnings.filterwarnings('ignore')"
   ]
  },
  {
   "cell_type": "code",
   "execution_count": 104,
   "metadata": {
    "collapsed": false
   },
   "outputs": [],
   "source": [
    "import numpy as np\n",
    "import matplotlib.pyplot as plt\n",
    "from matplotlib import dates\n",
    "\n",
    "import mpld3\n",
    "mpld3.enable_notebook()"
   ]
  },
  {
   "cell_type": "code",
   "execution_count": 105,
   "metadata": {
    "collapsed": false
   },
   "outputs": [],
   "source": [
    "from sqlalchemy import create_engine\n",
    "from sqlalchemy.orm import scoped_session, sessionmaker\n",
    "\n",
    "from homeassistant.components.recorder.models import Base, Events, States, RecorderRuns"
   ]
  },
  {
   "cell_type": "markdown",
   "metadata": {},
   "source": [
    "### Setup the database connection"
   ]
  },
  {
   "cell_type": "code",
   "execution_count": 106,
   "metadata": {
    "collapsed": false
   },
   "outputs": [],
   "source": [
    "# Your database URL\n",
    "DB_URL = \"sqlite:////path/to/.homeassistant/home-assistant_v2.db\""
   ]
  },
  {
   "cell_type": "code",
   "execution_count": 119,
   "metadata": {
    "collapsed": true
   },
   "outputs": [],
   "source": [
    "# Database setup\n",
    "engine = create_engine(DB_URL)\n",
    "Base.metadata.create_all(engine)\n",
    "session_factory = sessionmaker(bind=engine)\n",
    "Session = scoped_session(session_factory)"
   ]
  },
  {
   "cell_type": "markdown",
   "metadata": {},
   "source": [
    "### Query"
   ]
  },
  {
   "cell_type": "code",
   "execution_count": 146,
   "metadata": {
    "collapsed": false
   },
   "outputs": [],
   "source": [
    "data = list(engine.execute(\"SELECT state, last_changed FROM states WHERE entity_id = 'sensor.kitchen_temperature' AND state != 'unknown' AND state < 25\"))"
   ]
  },
  {
   "cell_type": "code",
   "execution_count": 147,
   "metadata": {
    "collapsed": false
   },
   "outputs": [
    {
     "data": {
      "text/plain": [
       "[('15', '2016-07-19 11:30:20.862355'),\n",
       " ('15', '2016-07-19 12:44:24.947883'),\n",
       " ('15', '2016-07-19 13:25:51.232524'),\n",
       " ('15', '2016-07-21 12:08:43.863633')]"
      ]
     },
     "execution_count": 147,
     "metadata": {},
     "output_type": "execute_result"
    }
   ],
   "source": [
    "# Samples\n",
    "data[0:4]"
   ]
  },
  {
   "cell_type": "markdown",
   "metadata": {},
   "source": [
    "### Prepare data for graph"
   ]
  },
  {
   "cell_type": "code",
   "execution_count": 148,
   "metadata": {
    "collapsed": true
   },
   "outputs": [],
   "source": [
    "values = []\n",
    "timestamps = []"
   ]
  },
  {
   "cell_type": "code",
   "execution_count": 149,
   "metadata": {
    "collapsed": false
   },
   "outputs": [],
   "source": [
    "for x in data:\n",
    "    timestamps.append(dates.date2num(datetime.datetime.strptime(x[1], '%Y-%m-%d %H:%M:%S.%f')))\n",
    "    values.append(float(x[0]))"
   ]
  },
  {
   "cell_type": "code",
   "execution_count": 150,
   "metadata": {
    "collapsed": false
   },
   "outputs": [
    {
     "data": {
      "text/plain": [
       "(736164.4794081291, 15.0)"
      ]
     },
     "execution_count": 150,
     "metadata": {},
     "output_type": "execute_result"
    }
   ],
   "source": [
    "# Sample\n",
    "timestamps[0], values[0]"
   ]
  },
  {
   "cell_type": "markdown",
   "metadata": {},
   "source": [
    "### Plot the graph"
   ]
  },
  {
   "cell_type": "code",
   "execution_count": 152,
   "metadata": {
    "collapsed": false,
    "scrolled": true
   },
   "outputs": [
    {
     "data": {
      "text/plain": [
       "<matplotlib.text.Text at 0x7f2d5e32d9b0>"
      ]
     },
     "execution_count": 152,
     "metadata": {},
     "output_type": "execute_result"
    },
    {
     "data": {
      "image/png": "[encoded data removed]",
      "text/html": [
       "\n",
       "\n",
       "<style>\n",
       "\n",
       "</style>\n",
       "\n",
       "<div id=\"fig_el155571398328428984566898605002\"></div>\n",
       "<script>\n",
       "function mpld3_load_lib(url, callback){\n",
       "  var s = document.createElement('script');\n",
       "  s.src = url;\n",
       "  s.async = true;\n",
       "  s.onreadystatechange = s.onload = callback;\n",
       "  s.onerror = function(){console.warn(\"failed to load library \" + url);};\n",
       "  document.getElementsByTagName(\"head\")[0].appendChild(s);\n",
       "}\n",
       "\n",
       "if(typeof(mpld3) !== \"undefined\" && mpld3._mpld3IsLoaded){\n",
       "   // already loaded: just create the figure\n",
       "   !function(mpld3){\n",
       "       \n",
       "       mpld3.draw_figure(\"fig_el155571398328428984566898605002\", {\"data\": {\"data01\": [[736164.4794081291, 15.0], [736164.5308443042, 15.0], [736164.5596207468, 15.0], [736166.5060632365, 15.0], [736166.5060632365, 15.0], [736168.4658593016, 23.0], [736168.4740650691, 23.0], [736168.4785248693, 15.0], [736168.7013966669, 23.0], [736168.7120805535, 21.0], [736168.7122496542, 23.0], [736168.7123814264, 23.0], [736168.7781324361, 24.0], [736168.7783981308, 23.0], [736171.7959341012, 21.0], [736171.7965137607, 21.5], [736171.796746017, 24.5], [736171.7996184247, 20.5], [736171.8009212526, 22.5], [736171.8465258493, 21.0], [736171.8585822213, 21.0], [736171.8617048814, 15.0], [736171.8622744041, 23.0], [736172.3304164219, 21.0], [736172.3401221032, 21.0], [736172.3537959966, 12.0], [736172.362595611, 21.0], [736172.557558136, 21.0], [736173.6000931121, 12.0]]}, \"id\": \"el15557139832842898456\", \"width\": 480.0, \"height\": 320.0, \"axes\": [{\"id\": \"el15557139832830979096\", \"sharey\": [], \"yscale\": \"linear\", \"zoomable\": true, \"bbox\": [0.125, 0.125, 0.775, 0.775], \"markers\": [], \"ylim\": [12.0, 26.0], \"images\": [], \"axes\": [{\"grid\": {\"gridOn\": true, \"dasharray\": \"10,0\", \"color\": \"#FFFFFF\", \"alpha\": 1.0}, \"position\": \"bottom\", \"tickvalues\": null, \"fontsize\": 10.0, \"nticks\": 9, \"scale\": \"linear\", \"tickformat\": null}, {\"grid\": {\"gridOn\": true, \"dasharray\": \"10,0\", \"color\": \"#FFFFFF\", \"alpha\": 1.0}, \"position\": \"left\", \"tickvalues\": null, \"fontsize\": 10.0, \"nticks\": 8, \"scale\": \"linear\", \"tickformat\": null}], \"xlim\": [736164.4794081291, 736173.6000931121], \"texts\": [{\"id\": \"el15557139832830646704\", \"color\": \"#262626\", \"alpha\": 1, \"text\": \"Time line\", \"h_anchor\": \"middle\", \"fontsize\": 11.0, \"rotation\": -0.0, \"position\": [0.5, -0.09408602150537636], \"v_baseline\": \"hanging\", \"zorder\": 3, \"coordinates\": \"axes\"}, {\"id\": \"el15557139832829843048\", \"color\": \"#262626\", \"alpha\": 1, \"text\": \"Temperature\", \"h_anchor\": \"middle\", \"fontsize\": 11.0, \"rotation\": -90.0, \"position\": [-0.06944444444444443, 0.5], \"v_baseline\": \"auto\", \"zorder\": 3, \"coordinates\": \"axes\"}], \"sharex\": [], \"lines\": [{\"zorder\": 2, \"data\": \"data01\", \"id\": \"el15557139832826780752\", \"color\": \"#FF0000\", \"alpha\": 1, \"yindex\": 1, \"dasharray\": \"10,0\", \"xindex\": 0, \"linewidth\": 1.75, \"coordinates\": \"data\"}], \"xscale\": \"date\", \"axesbgalpha\": null, \"collections\": [], \"ydomain\": [12.0, 26.0], \"axesbg\": \"#EAEAF2\", \"xdomain\": [[2016, 6, 19, 11, 30, 20, 862.355], [2016, 6, 28, 14, 24, 8, 44.884]], \"paths\": []}], \"plugins\": [{\"type\": \"reset\"}, {\"enabled\": false, \"type\": \"zoom\", \"button\": true}, {\"enabled\": false, \"type\": \"boxzoom\", \"button\": true}]});\n",
       "   }(mpld3);\n",
       "}else if(typeof define === \"function\" && define.amd){\n",
       "   // require.js is available: use it to load d3/mpld3\n",
       "   require.config({paths: {d3: \"https://mpld3.github.io/js/d3.v3.min\"}});\n",
       "   require([\"d3\"], function(d3){\n",
       "      window.d3 = d3;\n",
       "      mpld3_load_lib(\"https://mpld3.github.io/js/mpld3.v0.2.js\", function(){\n",
       "         \n",
       "         mpld3.draw_figure(\"fig_el155571398328428984566898605002\", {\"data\": {\"data01\": [[736164.4794081291, 15.0], [736164.5308443042, 15.0], [736164.5596207468, 15.0], [736166.5060632365, 15.0], [736166.5060632365, 15.0], [736168.4658593016, 23.0], [736168.4740650691, 23.0], [736168.4785248693, 15.0], [736168.7013966669, 23.0], [736168.7120805535, 21.0], [736168.7122496542, 23.0], [736168.7123814264, 23.0], [736168.7781324361, 24.0], [736168.7783981308, 23.0], [736171.7959341012, 21.0], [736171.7965137607, 21.5], [736171.796746017, 24.5], [736171.7996184247, 20.5], [736171.8009212526, 22.5], [736171.8465258493, 21.0], [736171.8585822213, 21.0], [736171.8617048814, 15.0], [736171.8622744041, 23.0], [736172.3304164219, 21.0], [736172.3401221032, 21.0], [736172.3537959966, 12.0], [736172.362595611, 21.0], [736172.557558136, 21.0], [736173.6000931121, 12.0]]}, \"id\": \"el15557139832842898456\", \"width\": 480.0, \"height\": 320.0, \"axes\": [{\"id\": \"el15557139832830979096\", \"sharey\": [], \"yscale\": \"linear\", \"zoomable\": true, \"bbox\": [0.125, 0.125, 0.775, 0.775], \"markers\": [], \"ylim\": [12.0, 26.0], \"images\": [], \"axes\": [{\"grid\": {\"gridOn\": true, \"dasharray\": \"10,0\", \"color\": \"#FFFFFF\", \"alpha\": 1.0}, \"position\": \"bottom\", \"tickvalues\": null, \"fontsize\": 10.0, \"nticks\": 9, \"scale\": \"linear\", \"tickformat\": null}, {\"grid\": {\"gridOn\": true, \"dasharray\": \"10,0\", \"color\": \"#FFFFFF\", \"alpha\": 1.0}, \"position\": \"left\", \"tickvalues\": null, \"fontsize\": 10.0, \"nticks\": 8, \"scale\": \"linear\", \"tickformat\": null}], \"xlim\": [736164.4794081291, 736173.6000931121], \"texts\": [{\"id\": \"el15557139832830646704\", \"color\": \"#262626\", \"alpha\": 1, \"text\": \"Time line\", \"h_anchor\": \"middle\", \"fontsize\": 11.0, \"rotation\": -0.0, \"position\": [0.5, -0.09408602150537636], \"v_baseline\": \"hanging\", \"zorder\": 3, \"coordinates\": \"axes\"}, {\"id\": \"el15557139832829843048\", \"color\": \"#262626\", \"alpha\": 1, \"text\": \"Temperature\", \"h_anchor\": \"middle\", \"fontsize\": 11.0, \"rotation\": -90.0, \"position\": [-0.06944444444444443, 0.5], \"v_baseline\": \"auto\", \"zorder\": 3, \"coordinates\": \"axes\"}], \"sharex\": [], \"lines\": [{\"zorder\": 2, \"data\": \"data01\", \"id\": \"el15557139832826780752\", \"color\": \"#FF0000\", \"alpha\": 1, \"yindex\": 1, \"dasharray\": \"10,0\", \"xindex\": 0, \"linewidth\": 1.75, \"coordinates\": \"data\"}], \"xscale\": \"date\", \"axesbgalpha\": null, \"collections\": [], \"ydomain\": [12.0, 26.0], \"axesbg\": \"#EAEAF2\", \"xdomain\": [[2016, 6, 19, 11, 30, 20, 862.355], [2016, 6, 28, 14, 24, 8, 44.884]], \"paths\": []}], \"plugins\": [{\"type\": \"reset\"}, {\"enabled\": false, \"type\": \"zoom\", \"button\": true}, {\"enabled\": false, \"type\": \"boxzoom\", \"button\": true}]});\n",
       "      });\n",
       "    });\n",
       "}else{\n",
       "    // require.js not available: dynamically load d3 & mpld3\n",
       "    mpld3_load_lib(\"https://mpld3.github.io/js/d3.v3.min.js\", function(){\n",
       "         mpld3_load_lib(\"https://mpld3.github.io/js/mpld3.v0.2.js\", function(){\n",
       "                 \n",
       "                 mpld3.draw_figure(\"fig_el155571398328428984566898605002\", {\"data\": {\"data01\": [[736164.4794081291, 15.0], [736164.5308443042, 15.0], [736164.5596207468, 15.0], [736166.5060632365, 15.0], [736166.5060632365, 15.0], [736168.4658593016, 23.0], [736168.4740650691, 23.0], [736168.4785248693, 15.0], [736168.7013966669, 23.0], [736168.7120805535, 21.0], [736168.7122496542, 23.0], [736168.7123814264, 23.0], [736168.7781324361, 24.0], [736168.7783981308, 23.0], [736171.7959341012, 21.0], [736171.7965137607, 21.5], [736171.796746017, 24.5], [736171.7996184247, 20.5], [736171.8009212526, 22.5], [736171.8465258493, 21.0], [736171.8585822213, 21.0], [736171.8617048814, 15.0], [736171.8622744041, 23.0], [736172.3304164219, 21.0], [736172.3401221032, 21.0], [736172.3537959966, 12.0], [736172.362595611, 21.0], [736172.557558136, 21.0], [736173.6000931121, 12.0]]}, \"id\": \"el15557139832842898456\", \"width\": 480.0, \"height\": 320.0, \"axes\": [{\"id\": \"el15557139832830979096\", \"sharey\": [], \"yscale\": \"linear\", \"zoomable\": true, \"bbox\": [0.125, 0.125, 0.775, 0.775], \"markers\": [], \"ylim\": [12.0, 26.0], \"images\": [], \"axes\": [{\"grid\": {\"gridOn\": true, \"dasharray\": \"10,0\", \"color\": \"#FFFFFF\", \"alpha\": 1.0}, \"position\": \"bottom\", \"tickvalues\": null, \"fontsize\": 10.0, \"nticks\": 9, \"scale\": \"linear\", \"tickformat\": null}, {\"grid\": {\"gridOn\": true, \"dasharray\": \"10,0\", \"color\": \"#FFFFFF\", \"alpha\": 1.0}, \"position\": \"left\", \"tickvalues\": null, \"fontsize\": 10.0, \"nticks\": 8, \"scale\": \"linear\", \"tickformat\": null}], \"xlim\": [736164.4794081291, 736173.6000931121], \"texts\": [{\"id\": \"el15557139832830646704\", \"color\": \"#262626\", \"alpha\": 1, \"text\": \"Time line\", \"h_anchor\": \"middle\", \"fontsize\": 11.0, \"rotation\": -0.0, \"position\": [0.5, -0.09408602150537636], \"v_baseline\": \"hanging\", \"zorder\": 3, \"coordinates\": \"axes\"}, {\"id\": \"el15557139832829843048\", \"color\": \"#262626\", \"alpha\": 1, \"text\": \"Temperature\", \"h_anchor\": \"middle\", \"fontsize\": 11.0, \"rotation\": -90.0, \"position\": [-0.06944444444444443, 0.5], \"v_baseline\": \"auto\", \"zorder\": 3, \"coordinates\": \"axes\"}], \"sharex\": [], \"lines\": [{\"zorder\": 2, \"data\": \"data01\", \"id\": \"el15557139832826780752\", \"color\": \"#FF0000\", \"alpha\": 1, \"yindex\": 1, \"dasharray\": \"10,0\", \"xindex\": 0, \"linewidth\": 1.75, \"coordinates\": \"data\"}], \"xscale\": \"date\", \"axesbgalpha\": null, \"collections\": [], \"ydomain\": [12.0, 26.0], \"axesbg\": \"#EAEAF2\", \"xdomain\": [[2016, 6, 19, 11, 30, 20, 862.355], [2016, 6, 28, 14, 24, 8, 44.884]], \"paths\": []}], \"plugins\": [{\"type\": \"reset\"}, {\"enabled\": false, \"type\": \"zoom\", \"button\": true}, {\"enabled\": false, \"type\": \"boxzoom\", \"button\": true}]});\n",
       "            })\n",
       "         });\n",
       "}\n",
       "</script>"
      ],
      "text/plain": [
       "<matplotlib.figure.Figure at 0x7f2d5eedcc18>"
      ]
     },
     "metadata": {},
     "output_type": "display_data"
    }
   ],
   "source": [
    "labels = timestamps\n",
    "plt.plot_date(x=timestamps, y=values, fmt=\"r-\")\n",
    "plt.grid(b='on')\n",
    "plt.ylabel('Temperature')\n",
    "plt.xlabel('Time line')"
   ]
  },
  {
   "cell_type": "markdown",
   "metadata": {},
   "source": [
    "There is almost no difference to the first graphing notebook. A few graphing libraries can be used that way which allows you to choose the library that fits best."
   ]
  }
 ],
 "metadata": {
  "kernelspec": {
   "display_name": "Python 3",
   "language": "python",
   "name": "python3"
  },
  "language_info": {
   "codemirror_mode": {
    "name": "ipython",
    "version": 3
   },
   "file_extension": ".py",
   "mimetype": "text/x-python",
   "name": "python",
   "nbconvert_exporter": "python",
   "pygments_lexer": "ipython3",
   "version": "3.4.3"
  }
 },
 "nbformat": 4,
 "nbformat_minor": 0
}
