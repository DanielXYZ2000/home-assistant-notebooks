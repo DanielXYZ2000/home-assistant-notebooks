{
 "cells": [
  {
   "cell_type": "markdown",
   "metadata": {},
   "source": [
    "## Datebase Statistics Example\n",
    "This notebooks shows a couple of basic examples about how to create statistics from details stored in your Home Assistant database. "
   ]
  },
  {
   "cell_type": "markdown",
   "metadata": {},
   "source": [
    "### Setup Database connection"
   ]
  },
  {
   "cell_type": "code",
   "execution_count": 79,
   "metadata": {
    "collapsed": false,
    "scrolled": true
   },
   "outputs": [],
   "source": [
    "# Instead of SQLAlchemy is the built-in Python support for SQLite used.\n",
    "import sqlite3"
   ]
  },
  {
   "cell_type": "code",
   "execution_count": 80,
   "metadata": {
    "collapsed": true,
    "scrolled": true
   },
   "outputs": [],
   "source": [
    "# Your database URL as specified in configuration.yaml\n",
    "DB_URL = \"/path/to/.homeassistant/home-assistant_v2.db\""
   ]
  },
  {
   "cell_type": "code",
   "execution_count": 81,
   "metadata": {
    "collapsed": false
   },
   "outputs": [],
   "source": [
    "conn = sqlite3.connect(DB_URL)"
   ]
  },
  {
   "cell_type": "markdown",
   "metadata": {},
   "source": [
    "### Details about your entities"
   ]
  },
  {
   "cell_type": "markdown",
   "metadata": {},
   "source": [
    "Get all entities and their occurrence from our database."
   ]
  },
  {
   "cell_type": "code",
   "execution_count": 82,
   "metadata": {
    "collapsed": true
   },
   "outputs": [],
   "source": [
    "entities = conn.execute(\"SELECT entity_id, COUNT(*) FROM states GROUP BY entity_id\")"
   ]
  },
  {
   "cell_type": "code",
   "execution_count": 83,
   "metadata": {
    "collapsed": false
   },
   "outputs": [
    {
     "data": {
      "text/plain": [
       "[('automation.check_the_battery_state_of_a_tablet', 666),\n",
       " ('automation.send_message_at_a_given_time', 283),\n",
       " ('automation.send_message_at_a_given_time_2', 283),\n",
       " ('automation.send_notification_if_input_is_set', 286),\n",
       " ('automation.send_notification_if_switch_is_used', 664),\n",
       " ('automation.turn_on_light_when_switch_is_used', 665),\n",
       " ('automation.update_available_notifications', 283),\n",
       " ('binary_sensor.bathroom_door', 1222),\n",
       " ('binary_sensor.coreos512mbnyc301', 11),\n",
       " ('binary_sensor.droplet', 12),\n",
       " ('binary_sensor.fedora512mbnyc301', 17),\n",
       " ('binary_sensor.fedora512mbnyc301_2', 9),\n",
       " ('binary_sensor.movement', 1342),\n",
       " ('binary_sensor.rest_tester', 35),\n",
       " ('binary_sensor.rest_tester_1', 14),\n",
       " ('binary_sensor.rest_tester_2', 48),\n",
       " ('binary_sensor.restyourdroid_battery', 6),\n",
       " ('binary_sensor.restyourdroid_ram', 6),\n",
       " ('binary_sensor.solar_angle', 1),\n",
       " ('binary_sensor.unnamed_device', 9),\n",
       " ('binary_sensor.z9', 62),\n",
       " ('cover.kitchen_cover', 17811),\n",
       " ('device_tracker.101000117', 442),\n",
       " ('device_tracker.android12ab51b201c94416localn2317net', 442),\n",
       " ('device_tracker.android1b6b292309fda43alocaln2317net', 441),\n",
       " ('device_tracker.controllocaln2317net', 442),\n",
       " ('device_tracker.demo_anne_therese', 411),\n",
       " ('device_tracker.demo_home_boy', 411),\n",
       " ('device_tracker.demo_paulus', 411),\n",
       " ('device_tracker.esp_11984clocaln2317net', 442),\n",
       " ('device_tracker.mystromswitch01276flocaln2317net', 442),\n",
       " ('device_tracker.openwrtlocaln2317net', 442),\n",
       " ('gpsd.gps', 782),\n",
       " ('gpsd.gpsd', 1),\n",
       " ('group.all_covers', 2775),\n",
       " ('group.all_devices', 478),\n",
       " ('group.all_lights', 315),\n",
       " ('group.all_locks', 4013),\n",
       " ('group.all_switches', 8018),\n",
       " ('group.ha_host', 1334),\n",
       " ('group.info', 1334),\n",
       " ('group.kitchen', 1334),\n",
       " ('group.livingroom', 1334),\n",
       " ('group.livingroom1', 1333),\n",
       " ('group.office', 1334),\n",
       " ('group.time', 1334),\n",
       " ('input_boolean.control_switch', 1483),\n",
       " ('input_boolean.notify_home', 1343),\n",
       " ('input_slider.brightness', 1367),\n",
       " ('input_slider.darkness', 1355),\n",
       " ('input_slider.minute', 299),\n",
       " ('light.1afe34d535e4', 69),\n",
       " ('light.test', 30),\n",
       " ('lock.front_door', 10),\n",
       " ('lock.front_gate', 1331),\n",
       " ('lock.kitchen_door', 10),\n",
       " ('media_player.local_music_player', 2),\n",
       " ('notify.jabber', 3),\n",
       " ('notify.telegram', 1),\n",
       " ('persistent_notification.123', 3),\n",
       " ('persistent_notification.httplogin', 9),\n",
       " ('persistent_notification.notification', 4),\n",
       " ('persistent_notification.notification_2', 2),\n",
       " ('persistent_notification.notification_3', 2),\n",
       " ('proximity.home', 282),\n",
       " ('sensor._count', 69),\n",
       " ('sensor._mean', 70),\n",
       " ('sensor._statistics', 6),\n",
       " ('sensor._stats', 4),\n",
       " ('sensor.aare', 49),\n",
       " ('sensor.bathroom111_temperature', 2),\n",
       " ('sensor.batter_laptop', 1),\n",
       " ('sensor.battery', 103),\n",
       " ('sensor.battery_laptop', 2562),\n",
       " ('sensor.battery_tablet', 1252),\n",
       " ('sensor.bin_sens_count', 34),\n",
       " ('sensor.bitcoin', 11),\n",
       " ('sensor.btc', 4),\n",
       " ('sensor.cmd_test', 435),\n",
       " ('sensor.control_input', 1897),\n",
       " ('sensor.cpu', 28874),\n",
       " ('sensor.cpu_1_mean', 158),\n",
       " ('sensor.cpu_mean', 16),\n",
       " ('sensor.cpu_temp', 3065),\n",
       " ('sensor.danotage', 2),\n",
       " ('sensor.date', 1177),\n",
       " ('sensor.difficulty', 19),\n",
       " ('sensor.discharge', 50),\n",
       " ('sensor.disk_free_', 3),\n",
       " ('sensor.disk_use_', 23),\n",
       " ('sensor.disk_use_home', 3),\n",
       " ('sensor.droplet', 12),\n",
       " ('sensor.droplet_fedora512mbnyc301', 5),\n",
       " ('sensor.dweetio_sensor', 1),\n",
       " ('sensor.dweetio_temperature', 10),\n",
       " ('sensor.exchange_rate_1_btc', 39),\n",
       " ('sensor.external_ip_address', 54),\n",
       " ('sensor.forecastio_apparent_temperature', 1),\n",
       " ('sensor.forecastio_icon', 1),\n",
       " ('sensor.forecastio_summary', 1),\n",
       " ('sensor.forecastio_temperature', 1),\n",
       " ('sensor.glances11', 100),\n",
       " ('sensor.google_travel_time', 1),\n",
       " ('sensor.gps', 43),\n",
       " ('sensor.gronkh', 28),\n",
       " ('sensor.ha_release', 574),\n",
       " ('sensor.ha_version_running', 590),\n",
       " ('sensor.hd_temperature', 22),\n",
       " ('sensor.internet_time', 12963),\n",
       " ('sensor.kitchen_humidity', 1220),\n",
       " ('sensor.kitchen_temperature', 1271),\n",
       " ('sensor.last', 112),\n",
       " ('sensor.last_seen_local', 1095),\n",
       " ('sensor.last_seen_utc', 307),\n",
       " ('sensor.living_room_humidity', 1220),\n",
       " ('sensor.living_room_temperature', 1222),\n",
       " ('sensor.localhost_cpu_load', 3),\n",
       " ('sensor.localhost_disk_free', 24),\n",
       " ('sensor.localhost_disk_use', 24),\n",
       " ('sensor.localhost_disk_use_2', 7),\n",
       " ('sensor.localhost_sleeping', 9),\n",
       " ('sensor.localhost_total', 10),\n",
       " ('sensor.mec', 1),\n",
       " ('sensor.megacoin', 1),\n",
       " ('sensor.micropython', 1475),\n",
       " ('sensor.mined', 45),\n",
       " ('sensor.miners_revenue', 47),\n",
       " ('sensor.minutes_input', 430),\n",
       " ('sensor.move_count', 24),\n",
       " ('sensor.movement_count', 102),\n",
       " ('sensor.mqtt_sensor', 796),\n",
       " ('sensor.munich_to_berlin', 2),\n",
       " ('sensor.munich_to_unterhaching', 7),\n",
       " ('sensor.netdata', 26),\n",
       " ('sensor.new_york', 18393),\n",
       " ('sensor.next_departure', 8),\n",
       " ('sensor.nzbget_article_cache', 9),\n",
       " ('sensor.nzbget_disk_free', 9),\n",
       " ('sensor.nzbget_download_paused', 11),\n",
       " ('sensor.nzbget_post_processing_paused', 11),\n",
       " ('sensor.nzbget_queue_size', 10),\n",
       " ('sensor.nzbget_speed', 15),\n",
       " ('sensor.nzbget_uptime', 56),\n",
       " ('sensor.office_temperature', 11),\n",
       " ('sensor.owm_cloud_coverage', 430),\n",
       " ('sensor.owm_condition', 486),\n",
       " ('sensor.owm_humidity', 543),\n",
       " ('sensor.owm_pressure', 439),\n",
       " ('sensor.owm_rain', 418),\n",
       " ('sensor.owm_snow', 417),\n",
       " ('sensor.owm_temperature', 774),\n",
       " ('sensor.owm_wind_speed', 564),\n",
       " ('sensor.pihole', 22),\n",
       " ('sensor.pihole_2', 2),\n",
       " ('sensor.process_glances', 55),\n",
       " ('sensor.rest_sensor', 378),\n",
       " ('sensor.rest_tester111', 176),\n",
       " ('sensor.restyourdroid_acceleration', 21),\n",
       " ('sensor.restyourdroid_battery', 14),\n",
       " ('sensor.restyourdroid_ram', 1),\n",
       " ('sensor.sab_disk', 2),\n",
       " ('sensor.sab_disk_free', 2),\n",
       " ('sensor.sab_left', 10),\n",
       " ('sensor.sab_queue', 10),\n",
       " ('sensor.sab_speed', 10),\n",
       " ('sensor.sab_status', 10),\n",
       " ('sensor.sabnzbd_disk', 8),\n",
       " ('sensor.sabnzbd_disk_free', 20),\n",
       " ('sensor.sabnzbd_left', 8),\n",
       " ('sensor.sabnzbd_queue', 8),\n",
       " ('sensor.sabnzbd_speed', 8),\n",
       " ('sensor.sabnzbd_status', 8),\n",
       " ('sensor.sensorcpu_calc', 131),\n",
       " ('sensor.sensorcpu_statistics', 6),\n",
       " ('sensor.shlorox', 28),\n",
       " ('sensor.slider_input', 1629),\n",
       " ('sensor.snmp_test_float', 4),\n",
       " ('sensor.snmp_test_integer', 439),\n",
       " ('sensor.snmp_test_ipaddress', 21),\n",
       " ('sensor.snmp_test_oid', 22),\n",
       " ('sensor.snmp_test_string', 38),\n",
       " ('sensor.snmp_test_string_ret', 26),\n",
       " ('sensor.snmp_test_timeticks', 792),\n",
       " ('sensor.solar_angle', 10440),\n",
       " ('sensor.solar_angle1', 11397),\n",
       " ('sensor.stress', 4),\n",
       " ('sensor.sun_state', 85),\n",
       " ('sensor.swap_free', 37),\n",
       " ('sensor.swap_use', 44),\n",
       " ('sensor.test', 50),\n",
       " ('sensor.thijshs', 2),\n",
       " ('sensor.time', 18415),\n",
       " ('sensor.time_between_blocks', 29),\n",
       " ('sensor.trade_volume', 44),\n",
       " ('sensor.trade_volume_2', 44),\n",
       " ('sensor.transmission_down_speed', 91),\n",
       " ('sensor.transmission_status', 73),\n",
       " ('sensor.transmission_up_speed', 29),\n",
       " ('sensor.unnamed_device', 7),\n",
       " ('sensor.usdeur', 2),\n",
       " ('sensor.weather_apparent_temperature', 811),\n",
       " ('sensor.weather_cloud_coverage', 105),\n",
       " ('sensor.weather_condition', 1035),\n",
       " ('sensor.weather_current', 128),\n",
       " ('sensor.weather_humidity', 1321),\n",
       " ('sensor.weather_icon', 203),\n",
       " ('sensor.weather_pressure', 106),\n",
       " ('sensor.weather_rain', 93),\n",
       " ('sensor.weather_snow', 93),\n",
       " ('sensor.weather_summary', 203),\n",
       " ('sensor.weather_temperature', 2603),\n",
       " ('sensor.weather_temperature_2', 341),\n",
       " ('sensor.weather_wind_speed', 1318),\n",
       " ('sensor.worldclock_sensor', 30),\n",
       " ('sensor.xyz_apparent_temperature', 647),\n",
       " ('sensor.xyz_icon', 246),\n",
       " ('sensor.xyz_summary', 291),\n",
       " ('sensor.xyz_temperature', 645),\n",
       " ('sensor.yr_pressure', 43),\n",
       " ('sensor.yr_symbol', 11),\n",
       " ('sensor.yr_temperature', 43),\n",
       " ('sun.sun', 21238),\n",
       " ('switch.arest_pin4', 325),\n",
       " ('switch.coreos512mbnyc301', 8),\n",
       " ('switch.droplet', 6),\n",
       " ('switch.fedora512mbnyc301', 13),\n",
       " ('switch.fedora512mbnyc301_2', 7),\n",
       " ('switch.kitchen_light', 2),\n",
       " ('switch.kitchen_switch', 1),\n",
       " ('switch.mpd1__bedroom', 3),\n",
       " ('switch.mystrom_switch', 14101),\n",
       " ('switch.power_office', 1299),\n",
       " ('switch.pump_balcony', 1303),\n",
       " ('switch.rest_switch', 15),\n",
       " ('switch.transmission', 37),\n",
       " ('updater.updater', 1),\n",
       " ('weather.demo_weather', 42),\n",
       " ('weather.demo_weather_2', 1),\n",
       " ('weather.demo_weather_north', 27),\n",
       " ('weather.demo_weather_south', 27),\n",
       " ('weather.humidity', 9),\n",
       " ('weather.north', 1),\n",
       " ('weather.openweathermap', 5),\n",
       " ('weather.owm', 41),\n",
       " ('weather.south', 1),\n",
       " ('weather.temperature', 9),\n",
       " ('weather.unnamed_device', 5),\n",
       " ('weather.weather_condition', 22),\n",
       " ('weather.weather_humidity', 13),\n",
       " ('weather.weather_temperature', 27),\n",
       " ('weather.weather_wind_speed', 17),\n",
       " ('weblink.home_assistant', 2),\n",
       " ('weblink.router', 2),\n",
       " ('zone.home', 1164),\n",
       " ('zone.home1', 11),\n",
       " ('zone.home_2', 11)]"
      ]
     },
     "execution_count": 83,
     "metadata": {},
     "output_type": "execute_result"
    }
   ],
   "source": [
    "entities.fetchall()"
   ]
  },
  {
   "cell_type": "markdown",
   "metadata": {},
   "source": [
    "### Details about one entities"
   ]
  },
  {
   "cell_type": "markdown",
   "metadata": {},
   "source": [
    "Most SQL dialects support mathematical functions, especially for statistical analysis. For SQLite those are called [Aggregate Functions](https://www.sqlite.org/lang_aggfunc.html)."
   ]
  },
  {
   "cell_type": "code",
   "execution_count": 84,
   "metadata": {
    "collapsed": false
   },
   "outputs": [],
   "source": [
    "stats = conn.execute(\"SELECT entity_id, COUNT(state) as count, MAX(state) as max, \"\n",
    "                     \"MIN(state) as min, AVG(state) as mean FROM states \"\n",
    "                     \"WHERE entity_id = 'sensor.cpu'\")"
   ]
  },
  {
   "cell_type": "code",
   "execution_count": 85,
   "metadata": {
    "collapsed": false
   },
   "outputs": [
    {
     "name": "stdout",
     "output_type": "stream",
     "text": [
      "Entitiy ID :  sensor.cpu\n",
      "count      :  28874\n",
      "max        :  2.6\n",
      "min        :  0.8\n",
      "mean       :  2.10266468102808\n"
     ]
    }
   ],
   "source": [
    "for row in stats:\n",
    "   print(\"Entitiy ID : \", row[0])\n",
    "   print(\"count      : \", row[1])\n",
    "   print(\"max        : \", row[2])\n",
    "   print(\"min        : \", row[3])\n",
    "   print(\"mean       : \", row[4])"
   ]
  },
  {
   "cell_type": "markdown",
   "metadata": {},
   "source": [
    "Count the occurrence of a single values. Could be useful if you want to adjust your climate units."
   ]
  },
  {
   "cell_type": "code",
   "execution_count": 92,
   "metadata": {
    "collapsed": true
   },
   "outputs": [],
   "source": [
    "stats1 = conn.execute(\"SELECT entity_id, COUNT(state) FROM states \"\n",
    "                      \"WHERE entity_id = 'sensor.cpu' AND state = 2.3\")"
   ]
  },
  {
   "cell_type": "code",
   "execution_count": 93,
   "metadata": {
    "collapsed": false
   },
   "outputs": [
    {
     "data": {
      "text/plain": [
       "[('sensor.cpu', 7379)]"
      ]
     },
     "execution_count": 93,
     "metadata": {},
     "output_type": "execute_result"
    }
   ],
   "source": [
    "stats1.fetchall()"
   ]
  },
  {
   "cell_type": "markdown",
   "metadata": {},
   "source": [
    "Show only values which exceeded a threshold."
   ]
  },
  {
   "cell_type": "code",
   "execution_count": 94,
   "metadata": {
    "collapsed": true
   },
   "outputs": [],
   "source": [
    "stats2 = conn.execute(\"SELECT entity_id, COUNT(state) FROM states \"\n",
    "                      \"WHERE entity_id = 'sensor.cpu' AND state > 2.3\")"
   ]
  },
  {
   "cell_type": "code",
   "execution_count": 95,
   "metadata": {
    "collapsed": false
   },
   "outputs": [
    {
     "data": {
      "text/plain": [
       "[('sensor.cpu', 7566)]"
      ]
     },
     "execution_count": 95,
     "metadata": {},
     "output_type": "execute_result"
    }
   ],
   "source": [
    "stats2.fetchall()"
   ]
  },
  {
   "cell_type": "markdown",
   "metadata": {},
   "source": [
    "Determine the states of a binary sensor."
   ]
  },
  {
   "cell_type": "code",
   "execution_count": 96,
   "metadata": {
    "collapsed": true
   },
   "outputs": [],
   "source": [
    "stats3 = conn.execute(\"SELECT state, COUNT(state) FROM states \"\n",
    "                      \"WHERE entity_id = 'binary_sensor.movement' \"\n",
    "                      \"AND state = 'off' OR state = 'on' GROUP BY state\")"
   ]
  },
  {
   "cell_type": "code",
   "execution_count": 97,
   "metadata": {
    "collapsed": false
   },
   "outputs": [
    {
     "data": {
      "text/plain": [
       "[('off', 1194), ('on', 19268)]"
      ]
     },
     "execution_count": 97,
     "metadata": {},
     "output_type": "execute_result"
    }
   ],
   "source": [
    "stats3.fetchall()"
   ]
  },
  {
   "cell_type": "markdown",
   "metadata": {},
   "source": [
    "If you are a Database or SQL pro, please feel free to add your queries or create a new notebook."
   ]
  }
 ],
 "metadata": {
  "kernelspec": {
   "display_name": "Python 3",
   "language": "python",
   "name": "python3"
  },
  "language_info": {
   "codemirror_mode": {
    "name": "ipython",
    "version": 3
   },
   "file_extension": ".py",
   "mimetype": "text/x-python",
   "name": "python",
   "nbconvert_exporter": "python",
   "pygments_lexer": "ipython3",
   "version": "3.5.1"
  }
 },
 "nbformat": 4,
 "nbformat_minor": 0
}
